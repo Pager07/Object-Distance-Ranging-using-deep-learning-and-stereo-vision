{
 "cells": [
  {
   "cell_type": "code",
   "execution_count": 1,
   "metadata": {},
   "outputs": [],
   "source": [
    "import cv2\n",
    "import os\n",
    "import numpy as np\n",
    "import random\n",
    "import csv"
   ]
  },
  {
   "cell_type": "code",
   "execution_count": 2,
   "metadata": {},
   "outputs": [],
   "source": [
    "camera_focal_length_px = 399.9745178222656  # focal length in pixels\n",
    "camera_focal_length_m = 4.8 / 1000          # focal length in metres (4.8 mm)\n",
    "stereo_camera_baseline_m = 0.2090607502     # camera baseline in metres\n",
    "image_centre_h = 262.0;\n",
    "image_centre_w = 474.5;"
   ]
  },
  {
   "cell_type": "code",
   "execution_count": 3,
   "metadata": {},
   "outputs": [],
   "source": [
    "def project_disparity_to_3d(disparity, max_disparity, rgb=[]):\n",
    "\n",
    "    points = [];\n",
    "\n",
    "    f = camera_focal_length_px;\n",
    "    B = stereo_camera_baseline_m;\n",
    "\n",
    "    height, width = disparity.shape[:2];\n",
    "\n",
    "    # assume a minimal disparity of 2 pixels is possible to get Zmax\n",
    "    # and then we get reasonable scaling in X and Y output if we change\n",
    "    # Z to Zmax in the lines X = ....; Y = ...; below\n",
    "\n",
    "    # Zmax = ((f * B) / 2);\n",
    "\n",
    "    for y in range(height): # 0 - height is the y axis index\n",
    "        for x in range(width): # 0 - width is the x axis index\n",
    "\n",
    "            # if we have a valid non-zero disparity\n",
    "\n",
    "            if (disparity[y,x] > 0):\n",
    "\n",
    "                # calculate corresponding 3D point [X, Y, Z]\n",
    "\n",
    "                # stereo lecture - slide 22 + 25\n",
    "\n",
    "                Z = (f * B) / disparity[y,x];\n",
    "\n",
    "                X = ((x - image_centre_w) * Z) / f;\n",
    "                Y = ((y - image_centre_h) * Z) / f;\n",
    "\n",
    "                # add to points\n",
    "\n",
    "                if(rgb.size > 0):\n",
    "                    points.append([X,Y,Z,rgb[y,x,2], rgb[y,x,1],rgb[y,x,0]]);\n",
    "                else:\n",
    "                    points.append([X,Y,Z]);\n",
    "\n",
    "    return points;"
   ]
  },
  {
   "cell_type": "code",
   "execution_count": 4,
   "metadata": {},
   "outputs": [],
   "source": [
    "def project_3D_points_to_2D_image_points(points):\n",
    "\n",
    "    points2 = [];\n",
    "\n",
    "    # calc. Zmax as per above\n",
    "\n",
    "    # Zmax = (camera_focal_length_px * stereo_camera_baseline_m) / 2;\n",
    "\n",
    "    for i1 in range(len(points)):\n",
    "\n",
    "        # reverse earlier projection for X and Y to get x and y again\n",
    "\n",
    "        x = ((points[i1][0] * camera_focal_length_px) / points[i1][2]) + image_centre_w;\n",
    "        y = ((points[i1][1] * camera_focal_length_px) / points[i1][2]) + image_centre_h;\n",
    "        points2.append([x,y]);\n",
    "\n",
    "    return points2;\n"
   ]
  },
  {
   "cell_type": "code",
   "execution_count": null,
   "metadata": {},
   "outputs": [],
   "source": []
  }
 ],
 "metadata": {
  "kernelspec": {
   "display_name": "Python 3",
   "language": "python",
   "name": "python3"
  },
  "language_info": {
   "codemirror_mode": {
    "name": "ipython",
    "version": 3
   },
   "file_extension": ".py",
   "mimetype": "text/x-python",
   "name": "python",
   "nbconvert_exporter": "python",
   "pygments_lexer": "ipython3",
   "version": "3.7.3"
  }
 },
 "nbformat": 4,
 "nbformat_minor": 1
}
