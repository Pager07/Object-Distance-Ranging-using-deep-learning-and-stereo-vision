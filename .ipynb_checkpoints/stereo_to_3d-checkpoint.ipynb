{
 "cells": [
  {
   "cell_type": "code",
   "execution_count": 1,
   "metadata": {},
   "outputs": [],
   "source": [
    "import cv2\n",
    "import os\n",
    "import numpy as np\n",
    "import random\n",
    "import csv"
   ]
  },
  {
   "cell_type": "code",
   "execution_count": 2,
   "metadata": {},
   "outputs": [],
   "source": [
    "camera_focal_length_px = 399.9745178222656  # focal length in pixels\n",
    "camera_focal_length_m = 4.8 / 1000          # focal length in metres (4.8 mm)\n",
    "stereo_camera_baseline_m = 0.2090607502     # camera baseline in metres\n",
    "image_centre_h = 262.0;\n",
    "image_centre_w = 474.5;"
   ]
  },
  {
   "cell_type": "code",
   "execution_count": 5,
   "metadata": {},
   "outputs": [],
   "source": [
    "def project_disparity_to_3d(disparity, max_disparity,center_of_bounding_box_coord):\n",
    "\n",
    "    f = camera_focal_length_px;\n",
    "    B = stereo_camera_baseline_m;\n",
    "\n",
    "    # assume a minimal disparity of 2 pixels is possible to get Zmax\n",
    "    # and then we get reasonable scaling in X and Y output if we change\n",
    "    # Z to Zmax in the lines X = ....; Y = ...; below\n",
    "\n",
    "    # Zmax = ((f * B) / 2);\n",
    "    row,col = center_of_bounding_box_coord\n",
    "    if(disparity[row,col]>0):\n",
    "        Z = (f * B) / disparity[row,col];\n",
    "        return Z\n",
    "    else:\n",
    "        return 0"
   ]
  },
  {
   "cell_type": "code",
   "execution_count": 4,
   "metadata": {},
   "outputs": [],
   "source": [
    "def project_3D_points_to_2D_image_points(points):\n",
    "\n",
    "    points2 = [];\n",
    "\n",
    "    # calc. Zmax as per above\n",
    "\n",
    "    # Zmax = (camera_focal_length_px * stereo_camera_baseline_m) / 2;\n",
    "\n",
    "    for i1 in range(len(points)):\n",
    "\n",
    "        # reverse earlier projection for X and Y to get x and y again\n",
    "\n",
    "        x = ((points[i1][0] * camera_focal_length_px) / points[i1][2]) + image_centre_w;\n",
    "        y = ((points[i1][1] * camera_focal_length_px) / points[i1][2]) + image_centre_h;\n",
    "        points2.append([x,y]);\n",
    "\n",
    "    return points2;\n"
   ]
  },
  {
   "cell_type": "code",
   "execution_count": 1,
   "metadata": {},
   "outputs": [],
   "source": [
    "a = (1,2)"
   ]
  },
  {
   "cell_type": "code",
   "execution_count": 2,
   "metadata": {},
   "outputs": [],
   "source": [
    "c,d = a"
   ]
  },
  {
   "cell_type": "code",
   "execution_count": 3,
   "metadata": {},
   "outputs": [
    {
     "data": {
      "text/plain": [
       "1"
      ]
     },
     "execution_count": 3,
     "metadata": {},
     "output_type": "execute_result"
    }
   ],
   "source": [
    "c"
   ]
  },
  {
   "cell_type": "code",
   "execution_count": 4,
   "metadata": {},
   "outputs": [
    {
     "data": {
      "text/plain": [
       "2"
      ]
     },
     "execution_count": 4,
     "metadata": {},
     "output_type": "execute_result"
    }
   ],
   "source": []
  },
  {
   "cell_type": "code",
   "execution_count": null,
   "metadata": {},
   "outputs": [],
   "source": []
  }
 ],
 "metadata": {
  "kernelspec": {
   "display_name": "Python 3",
   "language": "python",
   "name": "python3"
  },
  "language_info": {
   "codemirror_mode": {
    "name": "ipython",
    "version": 3
   },
   "file_extension": ".py",
   "mimetype": "text/x-python",
   "name": "python",
   "nbconvert_exporter": "python",
   "pygments_lexer": "ipython3",
   "version": "3.7.4"
  },
  "toc": {
   "base_numbering": 1,
   "nav_menu": {},
   "number_sections": true,
   "sideBar": true,
   "skip_h1_title": false,
   "title_cell": "Table of Contents",
   "title_sidebar": "Contents",
   "toc_cell": false,
   "toc_position": {},
   "toc_section_display": true,
   "toc_window_display": false
  },
  "varInspector": {
   "cols": {
    "lenName": 16,
    "lenType": 16,
    "lenVar": 40
   },
   "kernels_config": {
    "python": {
     "delete_cmd_postfix": "",
     "delete_cmd_prefix": "del ",
     "library": "var_list.py",
     "varRefreshCmd": "print(var_dic_list())"
    },
    "r": {
     "delete_cmd_postfix": ") ",
     "delete_cmd_prefix": "rm(",
     "library": "var_list.r",
     "varRefreshCmd": "cat(var_dic_list()) "
    }
   },
   "types_to_exclude": [
    "module",
    "function",
    "builtin_function_or_method",
    "instance",
    "_Feature"
   ],
   "window_display": false
  }
 },
 "nbformat": 4,
 "nbformat_minor": 1
}
