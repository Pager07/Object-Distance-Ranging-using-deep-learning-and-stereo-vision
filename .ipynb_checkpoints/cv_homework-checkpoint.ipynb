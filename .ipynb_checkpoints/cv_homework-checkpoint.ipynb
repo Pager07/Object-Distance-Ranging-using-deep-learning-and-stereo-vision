{
 "cells": [
  {
   "cell_type": "code",
   "execution_count": 1,
   "metadata": {},
   "outputs": [],
   "source": [
    "import sys\n",
    "import cv2\n",
    "import os\n",
    "import numpy as np\n",
    "import random"
   ]
  },
  {
   "cell_type": "code",
   "execution_count": 2,
   "metadata": {},
   "outputs": [
    {
     "name": "stdout",
     "output_type": "stream",
     "text": [
      "Requirement already satisfied: import-ipynb in /Users/sandeep/opt/anaconda3/lib/python3.7/site-packages (0.1.3)\r\n"
     ]
    }
   ],
   "source": [
    "!pip install import-ipynb"
   ]
  },
  {
   "cell_type": "code",
   "execution_count": 3,
   "metadata": {},
   "outputs": [
    {
     "name": "stdout",
     "output_type": "stream",
     "text": [
      "importing Jupyter notebook from object_detection.ipynb\n",
      "importing Jupyter notebook from stereo_to_3d.ipynb\n"
     ]
    }
   ],
   "source": [
    "sys.path.append('/Users/sandeep/opt/anaconda3/lib/python3.7/site-packages')\n",
    "import import_ipynb\n",
    "import object_detection\n",
    "import stereo_to_3d\n"
   ]
  },
  {
   "cell_type": "markdown",
   "metadata": {},
   "source": [
    "# Global variable setup"
   ]
  },
  {
   "cell_type": "code",
   "execution_count": 4,
   "metadata": {},
   "outputs": [],
   "source": [
    "master_path_to_dataset = \"/Users/sandeep/Desktop/Homework2019/ComputerVision Homework/TTBB-durham-02-10-17-sub10\" # ** need to edit this **\n",
    "directory_to_cycle_left = \"left-images\"     # edit this if needed\n",
    "directory_to_cycle_right = \"right-images\"   # edit this if needed\n",
    "\n",
    "# set this to a file timestamp to start from (empty is first example - outside lab)\n",
    "# e.g. set to 1506943191.487683 for the end of the Bailey, just as the vehicle turns\n",
    "\n",
    "skip_forward_file_pattern = \"\"; # set to timestamp to skip forward to\n",
    "\n",
    "crop_disparity = False; # display full or cropped disparity image\n",
    "pause_playback = False; # pause until key press after each image\n",
    "\n",
    "\n",
    "# resolve full directory location of data set for left / right images\n",
    "\n",
    "full_path_directory_left =  os.path.join(master_path_to_dataset, directory_to_cycle_left);\n",
    "full_path_directory_right =  os.path.join(master_path_to_dataset, directory_to_cycle_right);\n",
    "\n",
    "left_file_list = sorted(os.listdir(full_path_directory_left));\n",
    "\n",
    "# setup the disparity stereo processor to find a maximum of 128 disparity values\n",
    "# (adjust parameters if needed - this will effect speed to processing)\n",
    "\n",
    "max_disparity = 128;\n",
    "stereoProcessor = cv2.StereoSGBM_create(0, max_disparity, 21);"
   ]
  },
  {
   "cell_type": "code",
   "execution_count": null,
   "metadata": {
    "scrolled": false
   },
   "outputs": [
    {
     "name": "stdout",
     "output_type": "stream",
     "text": [
      "/Users/sandeep/Desktop/Homework2019/ComputerVision Homework/TTBB-durham-02-10-17-sub10/left-images/1506942473.484027_L.png\n",
      "/Users/sandeep/Desktop/Homework2019/ComputerVision Homework/TTBB-durham-02-10-17-sub10/right-images/1506942473.484027_R.png\n",
      "\n",
      "-- files loaded successfully\n",
      "\n",
      "/Users/sandeep/Desktop/Homework2019/ComputerVision Homework/TTBB-durham-02-10-17-sub10/left-images/1506942474.483193_L.png\n",
      "/Users/sandeep/Desktop/Homework2019/ComputerVision Homework/TTBB-durham-02-10-17-sub10/right-images/1506942474.483193_R.png\n",
      "\n",
      "-- files loaded successfully\n",
      "\n",
      "/Users/sandeep/Desktop/Homework2019/ComputerVision Homework/TTBB-durham-02-10-17-sub10/left-images/1506942475.481834_L.png\n",
      "/Users/sandeep/Desktop/Homework2019/ComputerVision Homework/TTBB-durham-02-10-17-sub10/right-images/1506942475.481834_R.png\n",
      "\n",
      "-- files loaded successfully\n",
      "\n",
      "/Users/sandeep/Desktop/Homework2019/ComputerVision Homework/TTBB-durham-02-10-17-sub10/left-images/1506942476.480930_L.png\n",
      "/Users/sandeep/Desktop/Homework2019/ComputerVision Homework/TTBB-durham-02-10-17-sub10/right-images/1506942476.480930_R.png\n",
      "\n",
      "-- files loaded successfully\n",
      "\n",
      "/Users/sandeep/Desktop/Homework2019/ComputerVision Homework/TTBB-durham-02-10-17-sub10/left-images/1506942477.481815_L.png\n",
      "/Users/sandeep/Desktop/Homework2019/ComputerVision Homework/TTBB-durham-02-10-17-sub10/right-images/1506942477.481815_R.png\n",
      "\n",
      "-- files loaded successfully\n",
      "\n",
      "/Users/sandeep/Desktop/Homework2019/ComputerVision Homework/TTBB-durham-02-10-17-sub10/left-images/1506942478.481487_L.png\n",
      "/Users/sandeep/Desktop/Homework2019/ComputerVision Homework/TTBB-durham-02-10-17-sub10/right-images/1506942478.481487_R.png\n",
      "\n",
      "-- files loaded successfully\n",
      "\n",
      "/Users/sandeep/Desktop/Homework2019/ComputerVision Homework/TTBB-durham-02-10-17-sub10/left-images/1506942479.480726_L.png\n",
      "/Users/sandeep/Desktop/Homework2019/ComputerVision Homework/TTBB-durham-02-10-17-sub10/right-images/1506942479.480726_R.png\n",
      "\n",
      "-- files loaded successfully\n",
      "\n",
      "/Users/sandeep/Desktop/Homework2019/ComputerVision Homework/TTBB-durham-02-10-17-sub10/left-images/1506942480.483420_L.png\n",
      "/Users/sandeep/Desktop/Homework2019/ComputerVision Homework/TTBB-durham-02-10-17-sub10/right-images/1506942480.483420_R.png\n",
      "\n",
      "-- files loaded successfully\n",
      "\n",
      "/Users/sandeep/Desktop/Homework2019/ComputerVision Homework/TTBB-durham-02-10-17-sub10/left-images/1506942481.483936_L.png\n",
      "/Users/sandeep/Desktop/Homework2019/ComputerVision Homework/TTBB-durham-02-10-17-sub10/right-images/1506942481.483936_R.png\n",
      "\n",
      "-- files loaded successfully\n",
      "\n",
      "/Users/sandeep/Desktop/Homework2019/ComputerVision Homework/TTBB-durham-02-10-17-sub10/left-images/1506942482.482131_L.png\n",
      "/Users/sandeep/Desktop/Homework2019/ComputerVision Homework/TTBB-durham-02-10-17-sub10/right-images/1506942482.482131_R.png\n",
      "\n",
      "-- files loaded successfully\n",
      "\n",
      "/Users/sandeep/Desktop/Homework2019/ComputerVision Homework/TTBB-durham-02-10-17-sub10/left-images/1506942483.480862_L.png\n",
      "/Users/sandeep/Desktop/Homework2019/ComputerVision Homework/TTBB-durham-02-10-17-sub10/right-images/1506942483.480862_R.png\n",
      "\n",
      "-- files loaded successfully\n",
      "\n"
     ]
    }
   ],
   "source": [
    "counter = 0\n",
    "for filename_left in left_file_list:\n",
    "\n",
    "    # from the left image filename get the correspondoning right image\n",
    "    filename_right = filename_left.replace(\"_L\", \"_R\");\n",
    "    full_path_filename_left = os.path.join(full_path_directory_left, filename_left);\n",
    "    full_path_filename_right = os.path.join(full_path_directory_right, filename_right);\n",
    "\n",
    "\n",
    "    # for sanity print out these filenames\n",
    "    print(full_path_filename_left);\n",
    "    print(full_path_filename_right);\n",
    "    print();\n",
    "\n",
    "    if ('.png' in filename_left) and (os.path.isfile(full_path_filename_right)) :\n",
    "\n",
    "        # read left and right images and display in windows\n",
    "        # N.B. despite one being grayscale both are in fact stored as 3-channel\n",
    "        # RGB images so load both as such\n",
    "        imgL = cv2.imread(full_path_filename_left, cv2.IMREAD_COLOR)\n",
    "        imgR = cv2.imread(full_path_filename_right, cv2.IMREAD_COLOR)\n",
    "        print(\"-- files loaded successfully\");\n",
    "        print();\n",
    "\n",
    "\n",
    "        # remember to convert to grayscale (as the disparity matching works on grayscale)\n",
    "        # N.B. need to do for both as both are 3-channel images\n",
    "        grayL = cv2.cvtColor(imgL,cv2.COLOR_BGR2GRAY);\n",
    "        grayR = cv2.cvtColor(imgR,cv2.COLOR_BGR2GRAY);\n",
    "\n",
    "        # compute disparity image from undistorted and rectified stereo images\n",
    "        # that we have loaded\n",
    "        disparity = stereoProcessor.compute(grayL,grayR);\n",
    "        dispNoiseFilter = 5; # increase for more agressive filtering\n",
    "        cv2.filterSpeckles(disparity, 0, 4000, max_disparity - dispNoiseFilter);\n",
    "        _, disparity = cv2.threshold(disparity,0, max_disparity * 16, cv2.THRESH_TOZERO);\n",
    "        disparity_scaled = (disparity / 16.).astype(np.uint8);\n",
    "\n",
    "        # project to a 3D colour point cloud (with or without colour)\n",
    "        points = stereo_to_3d.project_disparity_to_3d(disparity_scaled, max_disparity,imgL);\n",
    "        points = np.array(points)\n",
    "        map_2d_coord_to_Z = {}\n",
    "        for row in points:\n",
    "            coords_3d = row[0:3]\n",
    "            coords_2d  = stereo_to_3d.project_3D_points_to_2D_image_points([coords_3d])\n",
    "            coords_2d_tuple = (int(coords_2d[0][0]),int(coords_2d[0][1]))\n",
    "#             print(coords_2d_tuple)\n",
    "            map_2d_coord_to_Z[coords_2d_tuple] = coords_3d[2]   \n",
    "        yolo_image_output = object_detection.process_image(imgL, map_2d_coord_to_Z)\n",
    "        cv2.imshow('Distance detection',yolo_image_output)\n",
    "    else:\n",
    "        print(\"-- files skipped (perhaps one is missing or not PNG)\");\n",
    "        print();"
   ]
  },
  {
   "cell_type": "code",
   "execution_count": null,
   "metadata": {},
   "outputs": [],
   "source": []
  }
 ],
 "metadata": {
  "kernelspec": {
   "display_name": "Python 3",
   "language": "python",
   "name": "python3"
  },
  "language_info": {
   "codemirror_mode": {
    "name": "ipython",
    "version": 3
   },
   "file_extension": ".py",
   "mimetype": "text/x-python",
   "name": "python",
   "nbconvert_exporter": "python",
   "pygments_lexer": "ipython3",
   "version": "3.7.3"
  }
 },
 "nbformat": 4,
 "nbformat_minor": 1
}
