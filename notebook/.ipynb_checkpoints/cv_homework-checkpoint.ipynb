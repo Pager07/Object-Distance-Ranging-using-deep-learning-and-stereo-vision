{
 "cells": [
  {
   "cell_type": "code",
   "execution_count": 19,
   "metadata": {},
   "outputs": [],
   "source": [
    "import sys\n",
    "import cv2\n",
    "import os\n",
    "import numpy as np\n",
    "import random"
   ]
  },
  {
   "cell_type": "code",
   "execution_count": 20,
   "metadata": {},
   "outputs": [
    {
     "name": "stdout",
     "output_type": "stream",
     "text": [
      "Requirement already satisfied: import-ipynb in /Users/sandeep/opt/anaconda3/lib/python3.7/site-packages (0.1.3)\r\n"
     ]
    }
   ],
   "source": [
    "!pip install import-ipynb"
   ]
  },
  {
   "cell_type": "code",
   "execution_count": 26,
   "metadata": {},
   "outputs": [],
   "source": [
    "sys.path.append('/Users/sandeep/opt/anaconda3/lib/python3.7/site-packages')\n",
    "import import_ipynb\n",
    "import object_detection\n",
    "import stereo_to_3d"
   ]
  },
  {
   "cell_type": "markdown",
   "metadata": {},
   "source": [
    "# Global variable setup"
   ]
  },
  {
   "cell_type": "code",
   "execution_count": 27,
   "metadata": {},
   "outputs": [],
   "source": [
    "master_path_to_dataset = \"/Users/sandeep/Desktop/Homework2019/ComputerVision Homework/TTBB-durham-02-10-17-sub10\" # ** need to edit this **\n",
    "directory_to_cycle_left = \"left-images\"     # edit this if needed\n",
    "directory_to_cycle_right = \"right-images\"   # edit this if needed\n",
    "\n",
    "# set this to a file timestamp to start from (empty is first example - outside lab)\n",
    "# e.g. set to 1506943191.487683 for the end of the Bailey, just as the vehicle turns\n",
    "\n",
    "skip_forward_file_pattern = \"\"; # set to timestamp to skip forward to\n",
    "\n",
    "crop_disparity = False; # display full or cropped disparity image\n",
    "pause_playback = False; # pause until key press after each image\n",
    "\n",
    "\n",
    "# resolve full directory location of data set for left / right images\n",
    "\n",
    "full_path_directory_left =  os.path.join(master_path_to_dataset, directory_to_cycle_left);\n",
    "full_path_directory_right =  os.path.join(master_path_to_dataset, directory_to_cycle_right);\n",
    "\n",
    "left_file_list = sorted(os.listdir(full_path_directory_left));\n",
    "\n",
    "# setup the disparity stereo processor to find a maximum of 128 disparity values\n",
    "# (adjust parameters if needed - this will effect speed to processing)\n",
    "\n",
    "max_disparity = 128;\n",
    "stereoProcessor = cv2.StereoSGBM_create(0, max_disparity, 21);"
   ]
  },
  {
   "cell_type": "markdown",
   "metadata": {},
   "source": [
    "# Looping over image files"
   ]
  },
  {
   "cell_type": "markdown",
   "metadata": {},
   "source": [
    "- Load the image file \n",
    "- Pass it to Yolo and do object detection\n",
    "    - Should return center of the box coordinates \n",
    "    - [1:{class_name:'dog'  , left-top: (x,y) ,right-bottom: (x1,y1), center:(x,y) }]\n",
    "- Find the disparity map of the image file \n",
    "- Edit project disparity to 3d such that\n",
    "       - for each detected object it only calculates 3d point of given coords (center)\n",
    "       - x,y,z\n",
    "             - You do not need x and y \n",
    "             - You only need compute and return z \n",
    "- Pass the image to yolo agian to draw the rectangle and z value on it\n",
    "        - draw_pred needs: image,class_name,(left-top-coord),(right-bottom-coord), colour\n",
    "        - Thus, you need to store "
   ]
  },
  {
   "cell_type": "code",
   "execution_count": 29,
   "metadata": {
    "scrolled": false
   },
   "outputs": [
    {
     "name": "stdout",
     "output_type": "stream",
     "text": [
      "/Users/sandeep/Desktop/Homework2019/ComputerVision Homework/TTBB-durham-02-10-17-sub10/left-images/1506942473.484027_L.png\n",
      "/Users/sandeep/Desktop/Homework2019/ComputerVision Homework/TTBB-durham-02-10-17-sub10/right-images/1506942473.484027_R.png\n",
      "\n",
      "-- files loaded successfully\n",
      "\n"
     ]
    },
    {
     "ename": "TypeError",
     "evalue": "process_image() missing 1 required positional argument: 'coord2d_to_z_mapping'",
     "output_type": "error",
     "traceback": [
      "\u001b[0;31m---------------------------------------------------------------------------\u001b[0m",
      "\u001b[0;31mTypeError\u001b[0m                                 Traceback (most recent call last)",
      "\u001b[0;32m<ipython-input-29-464263e81c70>\u001b[0m in \u001b[0;36m<module>\u001b[0;34m\u001b[0m\n\u001b[1;32m     23\u001b[0m         \u001b[0mprint\u001b[0m\u001b[0;34m(\u001b[0m\u001b[0;34m)\u001b[0m\u001b[0;34m;\u001b[0m\u001b[0;34m\u001b[0m\u001b[0;34m\u001b[0m\u001b[0m\n\u001b[1;32m     24\u001b[0m \u001b[0;34m\u001b[0m\u001b[0m\n\u001b[0;32m---> 25\u001b[0;31m         \u001b[0mdetected_objects_list\u001b[0m \u001b[0;34m=\u001b[0m \u001b[0mobject_detection\u001b[0m\u001b[0;34m.\u001b[0m\u001b[0mprocess_image\u001b[0m\u001b[0;34m(\u001b[0m\u001b[0mimgL\u001b[0m\u001b[0;34m)\u001b[0m\u001b[0;34m\u001b[0m\u001b[0;34m\u001b[0m\u001b[0m\n\u001b[0m\u001b[1;32m     26\u001b[0m         \u001b[0;31m# remember to convert to grayscale (as the disparity matching works on grayscale)\u001b[0m\u001b[0;34m\u001b[0m\u001b[0;34m\u001b[0m\u001b[0;34m\u001b[0m\u001b[0m\n\u001b[1;32m     27\u001b[0m         \u001b[0;31m# N.B. need to do for both as both are 3-channel images\u001b[0m\u001b[0;34m\u001b[0m\u001b[0;34m\u001b[0m\u001b[0;34m\u001b[0m\u001b[0m\n",
      "\u001b[0;31mTypeError\u001b[0m: process_image() missing 1 required positional argument: 'coord2d_to_z_mapping'"
     ]
    }
   ],
   "source": [
    "counter = 0\n",
    "for filename_left in left_file_list:\n",
    "\n",
    "    # from the left image filename get the correspondoning right image\n",
    "    filename_right = filename_left.replace(\"_L\", \"_R\");\n",
    "    full_path_filename_left = os.path.join(full_path_directory_left, filename_left);\n",
    "    full_path_filename_right = os.path.join(full_path_directory_right, filename_right);\n",
    "\n",
    "\n",
    "    # for sanity print out these filenames\n",
    "    print(full_path_filename_left);\n",
    "    print(full_path_filename_right);\n",
    "    print();\n",
    "\n",
    "    if ('.png' in filename_left) and (os.path.isfile(full_path_filename_right)) :\n",
    "\n",
    "        # read left and right images and display in windows\n",
    "        # N.B. despite one being grayscale both are in fact stored as 3-channel\n",
    "        # RGB images so load both as such\n",
    "        imgL = cv2.imread(full_path_filename_left, cv2.IMREAD_COLOR)\n",
    "        imgR = cv2.imread(full_path_filename_right, cv2.IMREAD_COLOR)\n",
    "        print(\"-- files loaded successfully\");\n",
    "        print();\n",
    "        \n",
    "        detected_objects_list = object_detection.process_image(imgL)\n",
    "        # remember to convert to grayscale (as the disparity matching works on grayscale)\n",
    "        # N.B. need to do for both as both are 3-channel images\n",
    "        grayL = cv2.cvtColor(imgL,cv2.COLOR_BGR2GRAY);\n",
    "        grayR = cv2.cvtColor(imgR,cv2.COLOR_BGR2GRAY);\n",
    "\n",
    "        # compute disparity image from undistorted and rectified stereo images\n",
    "        # that we have loaded\n",
    "        disparity = stereoProcessor.compute(grayL,grayR);\n",
    "        dispNoiseFilter = 5; # increase for more agressive filtering\n",
    "        cv2.filterSpeckles(disparity, 0, 4000, max_disparity - dispNoiseFilter);\n",
    "        _, disparity = cv2.threshold(disparity,0, max_disparity * 16, cv2.THRESH_TOZERO);\n",
    "        disparity_scaled = (disparity / 16.).astype(np.uint8);\n",
    "        \n",
    "        print(np.array(disparity_scaled).shape)\n",
    "        print(np.array(imgL).shape)\n",
    "        for detected_object in detected_objects_list:\n",
    "            center_of_bounding_box_coord = detected_object['center']\n",
    "            distance = stereo_to_3d.project_disparity_to_3d(disparity_scaled,\n",
    "                                                            max_disparity,\n",
    "                                                            center_of_bounding_box_coord)\n",
    "            if distance != 0:\n",
    "                imgL = object_detection.drawPred(imgL,\n",
    "                                         detected_object['class_name'],\n",
    "                                         detected_object['left_top'][0],detected_object['left_top'][1],\n",
    "                                         detected_object['right_bottom'][0],detected_object['right_bottom'][1],\n",
    "                                         (255, 178, 50),\n",
    "                                         distance)\n",
    "        cv2.imshow('Distance detection',imgL)\n",
    "        \n",
    "        key = cv2.waitKey(40 * (not(pause_playback))) & 0xFF; # wait 40ms (i.e. 1000ms / 25 fps = 40 ms)\n",
    "        if (key == ord('x')):       # exit\n",
    "            break; # exit\n",
    "        elif (key == ord('s')):     # save\n",
    "            cv2.imwrite(\"sgbm-disparty.png\", disparity_scaled);\n",
    "            cv2.imwrite(\"left.png\", imgL);\n",
    "            cv2.imwrite(\"right.png\", imgR);\n",
    "        elif (key == ord('c')):     # crop\n",
    "            crop_disparity = not(crop_disparity);\n",
    "        elif (key == ord(' ')):     # pause (on next frame)\n",
    "            pause_playback = not(pause_playback);\n",
    "    else:\n",
    "        print(\"-- files skipped (perhaps one is missing or not PNG)\");\n",
    "        print();\n"
   ]
  },
  {
   "cell_type": "code",
   "execution_count": 32,
   "metadata": {},
   "outputs": [],
   "source": [
    "if 1<2:\n",
    "    if 2>3:\n",
    "        print('aa')\n",
    "else:\n",
    "    print('Hi')"
   ]
  },
  {
   "cell_type": "code",
   "execution_count": null,
   "metadata": {},
   "outputs": [],
   "source": []
  }
 ],
 "metadata": {
  "kernelspec": {
   "display_name": "Python 3",
   "language": "python",
   "name": "python3"
  },
  "language_info": {
   "codemirror_mode": {
    "name": "ipython",
    "version": 3
   },
   "file_extension": ".py",
   "mimetype": "text/x-python",
   "name": "python",
   "nbconvert_exporter": "python",
   "pygments_lexer": "ipython3",
   "version": "3.7.4"
  },
  "toc": {
   "base_numbering": 1,
   "nav_menu": {},
   "number_sections": true,
   "sideBar": true,
   "skip_h1_title": false,
   "title_cell": "Table of Contents",
   "title_sidebar": "Contents",
   "toc_cell": false,
   "toc_position": {
    "height": "calc(100% - 180px)",
    "left": "10px",
    "top": "150px",
    "width": "227px"
   },
   "toc_section_display": true,
   "toc_window_display": false
  },
  "varInspector": {
   "cols": {
    "lenName": 16,
    "lenType": 16,
    "lenVar": 40
   },
   "kernels_config": {
    "python": {
     "delete_cmd_postfix": "",
     "delete_cmd_prefix": "del ",
     "library": "var_list.py",
     "varRefreshCmd": "print(var_dic_list())"
    },
    "r": {
     "delete_cmd_postfix": ") ",
     "delete_cmd_prefix": "rm(",
     "library": "var_list.r",
     "varRefreshCmd": "cat(var_dic_list()) "
    }
   },
   "types_to_exclude": [
    "module",
    "function",
    "builtin_function_or_method",
    "instance",
    "_Feature"
   ],
   "window_display": false
  }
 },
 "nbformat": 4,
 "nbformat_minor": 1
}
