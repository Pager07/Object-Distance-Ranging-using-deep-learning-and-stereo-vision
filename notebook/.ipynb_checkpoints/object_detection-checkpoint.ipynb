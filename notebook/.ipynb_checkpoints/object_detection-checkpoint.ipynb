{
 "cells": [
  {
   "cell_type": "code",
   "execution_count": null,
   "metadata": {},
   "outputs": [],
   "source": [
    "# Given an image, this module returns\n",
    "#     - Box coordinates\n",
    "#     - Image with bounding boxes with lables\n"
   ]
  },
  {
   "cell_type": "code",
   "execution_count": 11,
   "metadata": {},
   "outputs": [],
   "source": [
    "import cv2\n",
    "import argparse\n",
    "import sys\n",
    "import math\n",
    "import numpy as np"
   ]
  },
  {
   "cell_type": "code",
   "execution_count": 12,
   "metadata": {},
   "outputs": [],
   "source": [
    "class_file = \"/Users/sandeep/Desktop/Homework2019/ComputerVision Homework/python-examples-cv/coco.names\"\n",
    "config_file = \"/Users/sandeep/Desktop/Homework2019/ComputerVision Homework/python-examples-cv/yolov3.cfg\"\n",
    "weights_file = \"/Users/sandeep/Desktop/Homework2019/ComputerVision Homework/python-examples-cv/yolov3.weights\"\n",
    "\n",
    "confThreshold = 0.5  # Confidence threshold\n",
    "nmsThreshold = 0.4   # Non-maximum suppression threshold\n",
    "inpWidth = 416       # Width of network's input image\n",
    "inpHeight = 416      # Height of network's input image\n",
    "\n",
    "net,output_layer_names,classes = None,None,None\n"
   ]
  },
  {
   "cell_type": "code",
   "execution_count": 19,
   "metadata": {},
   "outputs": [],
   "source": [
    "def set_file_dir(class_file_dir, config_file_dir, weights_file_dir):\n",
    "    global class_file\n",
    "    global config_file \n",
    "    global weights_file\n",
    "    class_file = class_file_dir\n",
    "    config_file = config_file_dir\n",
    "    weights_file = weights_file_dir"
   ]
  },
  {
   "cell_type": "code",
   "execution_count": 3,
   "metadata": {},
   "outputs": [],
   "source": [
    "def drawPred(image, class_name, left, top, right, bottom, colour,z):\n",
    "    # Draw a bounding box.\n",
    "    cv2.rectangle(image, (left, top), (right, bottom), colour, 3)\n",
    "\n",
    "    # construct label\n",
    "    # construct label\n",
    "    label = f'{class_name}:{round(z,2)}m'\n",
    "\n",
    "    #Display the label at the top of the bounding box\n",
    "    labelSize, baseLine = cv2.getTextSize(label, cv2.FONT_HERSHEY_SIMPLEX, 0.5, 1)\n",
    "    top = max(top, labelSize[1])\n",
    "    cv2.rectangle(image, (left, top - round(1.5*labelSize[1])),\n",
    "        (left + round(1.5*labelSize[0]), top + baseLine), (255, 255, 255), cv2.FILLED)\n",
    "    cv2.putText(image, label, (left, top), cv2.FONT_HERSHEY_SIMPLEX, 0.75, (0,0,0), 1)\n",
    "    return image"
   ]
  },
  {
   "cell_type": "code",
   "execution_count": 30,
   "metadata": {},
   "outputs": [],
   "source": [
    "def postprocess(image, results, threshold_confidence, threshold_nms):\n",
    "    frameHeight = image.shape[0]\n",
    "    frameWidth = image.shape[1]\n",
    "\n",
    "    classIds = []\n",
    "    confidences = []\n",
    "    boxes = []\n",
    "\n",
    "    # Scan through all the bounding boxes output from the network and..\n",
    "    # 1. keep only the ones with high confidence scores.\n",
    "    # 2. assign the box class label as the class with the highest score.\n",
    "    # 3. construct a list of bounding boxes, class labels and confidence scores\n",
    "\n",
    "    classIds = []\n",
    "    confidences = []\n",
    "    boxes = []\n",
    "    for result in results:\n",
    "        for detection in result:\n",
    "            scores = detection[5:]\n",
    "            classId = np.argmax(scores)\n",
    "            confidence = scores[classId]\n",
    "            if confidence > threshold_confidence:\n",
    "                center_x = int(detection[0] * frameWidth)\n",
    "                center_y = int(detection[1] * frameHeight)\n",
    "                width = int(detection[2] * frameWidth)\n",
    "                height = int(detection[3] * frameHeight)\n",
    "                left = int(center_x - width / 2)\n",
    "                top = int(center_y - height / 2)\n",
    "                classIds.append(classId)\n",
    "                confidences.append(float(confidence))\n",
    "                boxes.append([left, top, width, height])\n",
    "\n",
    "    # Perform non maximum suppression to eliminate redundant overlapping boxes with\n",
    "    # lower confidences\n",
    "    classIds_nms = []\n",
    "    confidences_nms = []\n",
    "    boxes_nms = []\n",
    "\n",
    "    indices = cv2.dnn.NMSBoxes(boxes, confidences, threshold_confidence, threshold_nms)\n",
    "    for i in indices:\n",
    "        i = i[0]\n",
    "        classIds_nms.append(classIds[i])\n",
    "        confidences_nms.append(confidences[i])\n",
    "        boxes_nms.append(boxes[i])\n",
    "\n",
    "    # return post processed lists of classIds, confidences and bounding boxes\n",
    "    return (classIds_nms, confidences_nms, boxes_nms)\n"
   ]
  },
  {
   "cell_type": "code",
   "execution_count": 31,
   "metadata": {},
   "outputs": [],
   "source": [
    "# Get the names of the output layers of the CNN network\n",
    "# net : an OpenCV DNN module network object\n",
    "def getOutputsNames(net):\n",
    "    # Get the names of all the layers in the network\n",
    "    layersNames = net.getLayerNames()\n",
    "    # Get the names of the output layers, i.e. the layers with unconnected outputs\n",
    "    return [layersNames[i[0] - 1] for i in net.getUnconnectedOutLayers()]"
   ]
  },
  {
   "cell_type": "code",
   "execution_count": 32,
   "metadata": {},
   "outputs": [],
   "source": [
    "def init_yolo():  \n",
    "    # Load names of classes from file\n",
    "    classesFile = class_file\n",
    "    global classes \n",
    "    with open(classesFile, 'rt') as f:\n",
    "        classes = f.read().rstrip('\\n').split('\\n')\n",
    "\n",
    "    # load configuration and weight files for the model and load the network using them\n",
    "    global net\n",
    "    global output_layer_names\n",
    "    net = cv2.dnn.readNetFromDarknet(config_file, weights_file)\n",
    "    output_layer_names = getOutputsNames(net)\n",
    "\n",
    "     # defaults DNN_BACKEND_INFERENCE_ENGINE if Intel Inference Engine lib available or DNN_BACKEND_OPENCV otherwise\n",
    "    net.setPreferableBackend(cv2.dnn.DNN_BACKEND_DEFAULT)\n",
    "\n",
    "    # change to cv2.dnn.DNN_TARGET_CPU (slower) if this causes issues (should fail gracefully if OpenCL not available)\n",
    "    net.setPreferableTarget(cv2.dnn.DNN_TARGET_OPENCL)"
   ]
  },
  {
   "cell_type": "code",
   "execution_count": 33,
   "metadata": {},
   "outputs": [],
   "source": [
    "def get_center_coord_of_bounding_box(top_left , bottom_right):\n",
    "    col1,col2 = top_left[1],bottom_right[1]\n",
    "    row1,row2 = top_left[0],bottom_right[0]\n",
    "    mid_point_row = int((row1+row2)/2)\n",
    "    mid_point_col = int((col1+col2)/2)\n",
    "    return (mid_point_col, mid_point_row)"
   ]
  },
  {
   "cell_type": "code",
   "execution_count": 34,
   "metadata": {},
   "outputs": [],
   "source": [
    "def get_z_value(center_of_bounding_box ,coord2d_to_z_mapping):\n",
    "    return coord2d_to_z_mapping[center_of_bounding_box]"
   ]
  },
  {
   "cell_type": "code",
   "execution_count": 2,
   "metadata": {},
   "outputs": [],
   "source": [
    "def process_image(frame):\n",
    "    init_yolo()\n",
    "    # create a 4D tensor (OpenCV 'blob') from image frame (pixels scaled 0->1, image resized)\n",
    "    tensor = cv2.dnn.blobFromImage(frame, 1/255, (inpWidth, inpHeight), [0,0,0], 1, crop=False)\n",
    "\n",
    "    # set the input to the CNN network\n",
    "    net.setInput(tensor)\n",
    "\n",
    "    # runs forward inference to get output of the final output layers\n",
    "    results = net.forward(output_layer_names)\n",
    "\n",
    "    # remove the bounding boxes with low confidence\n",
    "    classIDs, confidences, boxes = postprocess(frame, results, confThreshold, nmsThreshold)\n",
    "\n",
    "    # draw resulting detections on image\n",
    "    detected_object_list = []\n",
    "    for detected_object in range(0, len(boxes)):\n",
    "        box = boxes[detected_object]\n",
    "        left = box[0]\n",
    "        top = box[1]\n",
    "        width = box[2]\n",
    "        height = box[3]\n",
    "        center_of_bounding_box = get_center_coord_of_bounding_box((left,top),\n",
    "                                                                 (left + width, top + height)\n",
    "                                                                 )\n",
    "        detected_object_list.append({'class_name':classes[classIDs[detected_object]],\n",
    "                                    'left_top':(left,top),\n",
    "                                    'right_bottom':(left + width, top + height),\n",
    "                                    'center': center_of_bounding_box})\n",
    "\n",
    "    return detected_object_list\n",
    "\n",
    "    \n",
    "\n",
    "\n"
   ]
  },
  {
   "cell_type": "code",
   "execution_count": 22,
   "metadata": {},
   "outputs": [],
   "source": [
    "# frame = cv2.imread('/Users/sandeep/Desktop/Homework2019/ComputerVision Homework/TTBB-durham-02-10-17-sub10/left-images/1506942473.484027_L.png')\n",
    "# frame, listx =process_image(frame)\n"
   ]
  },
  {
   "cell_type": "code",
   "execution_count": 23,
   "metadata": {
    "scrolled": true
   },
   "outputs": [
    {
     "data": {
      "text/plain": [
       "[(782.5, 253.0),\n",
       " (284.5, 185.5),\n",
       " (121.5, 310.0),\n",
       " (344.0, 179.0),\n",
       " (247.5, 192.5),\n",
       " (475.5, 159.5),\n",
       " (516.0, 466.5),\n",
       " (322.0, 181.5)]"
      ]
     },
     "execution_count": 23,
     "metadata": {},
     "output_type": "execute_result"
    }
   ],
   "source": [
    "# listx"
   ]
  },
  {
   "cell_type": "code",
   "execution_count": 38,
   "metadata": {},
   "outputs": [
    {
     "data": {
      "text/plain": [
       "False"
      ]
     },
     "execution_count": 38,
     "metadata": {},
     "output_type": "execute_result"
    }
   ],
   "source": [
    "a = {(1,2):'a'}\n",
    "'a' in a"
   ]
  },
  {
   "cell_type": "code",
   "execution_count": 39,
   "metadata": {},
   "outputs": [
    {
     "data": {
      "text/plain": [
       "1.1"
      ]
     },
     "execution_count": 39,
     "metadata": {},
     "output_type": "execute_result"
    }
   ],
   "source": [
    "round(1.11111,1)"
   ]
  },
  {
   "cell_type": "code",
   "execution_count": null,
   "metadata": {},
   "outputs": [],
   "source": []
  }
 ],
 "metadata": {
  "kernelspec": {
   "display_name": "Python 3",
   "language": "python",
   "name": "python3"
  },
  "language_info": {
   "codemirror_mode": {
    "name": "ipython",
    "version": 3
   },
   "file_extension": ".py",
   "mimetype": "text/x-python",
   "name": "python",
   "nbconvert_exporter": "python",
   "pygments_lexer": "ipython3",
   "version": "3.7.4"
  },
  "pycharm": {
   "stem_cell": {
    "cell_type": "raw",
    "metadata": {
     "collapsed": false
    },
    "source": []
   }
  },
  "toc": {
   "base_numbering": 1,
   "nav_menu": {},
   "number_sections": true,
   "sideBar": true,
   "skip_h1_title": false,
   "title_cell": "Table of Contents",
   "title_sidebar": "Contents",
   "toc_cell": false,
   "toc_position": {},
   "toc_section_display": true,
   "toc_window_display": false
  },
  "varInspector": {
   "cols": {
    "lenName": 16,
    "lenType": 16,
    "lenVar": 40
   },
   "kernels_config": {
    "python": {
     "delete_cmd_postfix": "",
     "delete_cmd_prefix": "del ",
     "library": "var_list.py",
     "varRefreshCmd": "print(var_dic_list())"
    },
    "r": {
     "delete_cmd_postfix": ") ",
     "delete_cmd_prefix": "rm(",
     "library": "var_list.r",
     "varRefreshCmd": "cat(var_dic_list()) "
    }
   },
   "types_to_exclude": [
    "module",
    "function",
    "builtin_function_or_method",
    "instance",
    "_Feature"
   ],
   "window_display": false
  }
 },
 "nbformat": 4,
 "nbformat_minor": 1
}
